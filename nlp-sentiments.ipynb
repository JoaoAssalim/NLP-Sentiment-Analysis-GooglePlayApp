{
 "cells": [
  {
   "cell_type": "code",
   "execution_count": 1,
   "metadata": {},
   "outputs": [
    {
     "name": "stderr",
     "output_type": "stream",
     "text": [
      "/home/assalim/.local/lib/python3.10/site-packages/tqdm/auto.py:21: TqdmWarning: IProgress not found. Please update jupyter and ipywidgets. See https://ipywidgets.readthedocs.io/en/stable/user_install.html\n",
      "  from .autonotebook import tqdm as notebook_tqdm\n",
      "2023-07-22 23:32:31.036790: I tensorflow/tsl/cuda/cudart_stub.cc:28] Could not find cuda drivers on your machine, GPU will not be used.\n",
      "2023-07-22 23:32:31.246014: I tensorflow/tsl/cuda/cudart_stub.cc:28] Could not find cuda drivers on your machine, GPU will not be used.\n",
      "2023-07-22 23:32:31.247394: I tensorflow/core/platform/cpu_feature_guard.cc:182] This TensorFlow binary is optimized to use available CPU instructions in performance-critical operations.\n",
      "To enable the following instructions: AVX2 FMA, in other operations, rebuild TensorFlow with the appropriate compiler flags.\n",
      "2023-07-22 23:32:32.192169: W tensorflow/compiler/tf2tensorrt/utils/py_utils.cc:38] TF-TRT Warning: Could not find TensorRT\n"
     ]
    }
   ],
   "source": [
    "from selenium import webdriver\n",
    "import time\n",
    "from selenium.webdriver.common.by import By\n",
    "from selenium.webdriver.chrome.options import Options\n",
    "from transformers import pipeline\n",
    "from googletrans import Translator"
   ]
  },
  {
   "cell_type": "code",
   "execution_count": 13,
   "metadata": {},
   "outputs": [],
   "source": [
    "driver = webdriver.Chrome()\n",
    "driver.get('https://play.google.com/store/apps/details?id=com.whatsapp')\n",
    "translator = Translator()\n",
    "\n",
    "f_estrela = [(int(driver.find_element(By.CLASS_NAME, 'iXRFPc').get_attribute('aria-label').split()[1]))]\n",
    "f_comentario = [driver.find_element(By.CLASS_NAME, 'h3YV2d').text]\n",
    "\n",
    "more = driver.find_element(By.XPATH, '//*[@id=\"yDmH0d\"]/c-wiz[2]/div/div/div[2]/div[2]/div/div[1]/div[1]/c-wiz[4]/section/div/div[2]/div[5]/div/div/button/span').click()\n",
    "\n",
    "\n",
    "estrelas = driver.find_elements(By.CLASS_NAME, 'iXRFPc')\n",
    "estrelas = [int(estrela.get_attribute('aria-label').split()[1]) for estrela in estrelas]\n",
    "\n",
    "comentarios = driver.find_elements(By.CLASS_NAME, 'h3YV2d')\n",
    "comentarios = [translator.translate(comentario.text, dest='en').text for comentario in comentarios]\n",
    "\n",
    "estrelas = f_estrela + estrelas[1:]\n",
    "comentarios = f_comentario + comentarios[1:]\n",
    "\n",
    "driver.close()"
   ]
  },
  {
   "cell_type": "code",
   "execution_count": 21,
   "metadata": {},
   "outputs": [
    {
     "name": "stdout",
     "output_type": "stream",
     "text": [
      "Mean stars: 2.4\n"
     ]
    }
   ],
   "source": [
    "print(\"Mean stars: \" + str(round(sum(estrelas)/len(estrelas), 2)))"
   ]
  },
  {
   "cell_type": "code",
   "execution_count": 8,
   "metadata": {},
   "outputs": [
    {
     "name": "stderr",
     "output_type": "stream",
     "text": [
      "Some weights of the model checkpoint at cardiffnlp/twitter-roberta-base-sentiment-latest were not used when initializing RobertaForSequenceClassification: ['roberta.pooler.dense.weight', 'roberta.pooler.dense.bias']\n",
      "- This IS expected if you are initializing RobertaForSequenceClassification from the checkpoint of a model trained on another task or with another architecture (e.g. initializing a BertForSequenceClassification model from a BertForPreTraining model).\n",
      "- This IS NOT expected if you are initializing RobertaForSequenceClassification from the checkpoint of a model that you expect to be exactly identical (initializing a BertForSequenceClassification model from a BertForSequenceClassification model).\n"
     ]
    }
   ],
   "source": [
    "pipe = pipeline(model=\"cardiffnlp/twitter-roberta-base-sentiment-latest\")"
   ]
  },
  {
   "cell_type": "code",
   "execution_count": 18,
   "metadata": {},
   "outputs": [
    {
     "name": "stdout",
     "output_type": "stream",
     "text": [
      "5 people likes this app\n",
      "5 people prefer not say\n",
      "33 people hates this app\n"
     ]
    }
   ],
   "source": [
    "opinions = {'positive': 0, 'negative': 0, 'neutral': 0}\n",
    "\n",
    "for comment in comentarios:\n",
    "    opinions[pipe(comment)[0]['label']] += 1\n",
    "\n",
    "print(f'{opinions[\"positive\"]} people likes this app')\n",
    "print(f'{opinions[\"neutral\"]} people prefer not say')\n",
    "print(f'{opinions[\"negative\"]} people does not like this app')"
   ]
  }
 ],
 "metadata": {
  "kernelspec": {
   "display_name": "Python 3",
   "language": "python",
   "name": "python3"
  },
  "language_info": {
   "codemirror_mode": {
    "name": "ipython",
    "version": 3
   },
   "file_extension": ".py",
   "mimetype": "text/x-python",
   "name": "python",
   "nbconvert_exporter": "python",
   "pygments_lexer": "ipython3",
   "version": "3.10.6"
  },
  "orig_nbformat": 4
 },
 "nbformat": 4,
 "nbformat_minor": 2
}

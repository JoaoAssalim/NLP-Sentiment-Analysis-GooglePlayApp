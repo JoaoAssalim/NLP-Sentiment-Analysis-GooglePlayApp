{
 "cells": [
  {
   "cell_type": "code",
   "execution_count": 2,
   "metadata": {},
   "outputs": [],
   "source": [
    "from selenium import webdriver\n",
    "import time\n",
    "from selenium.webdriver.common.by import By\n",
    "from selenium.webdriver.chrome.options import Options\n",
    "from transformers import pipeline\n",
    "from googletrans import Translator\n",
    "import matplotlib.pyplot as plt"
   ]
  },
  {
   "cell_type": "code",
   "execution_count": 3,
   "metadata": {},
   "outputs": [],
   "source": [
    "driver = webdriver.Chrome()\n",
    "driver.get('https://play.google.com/store/apps/details?id=com.whatsapp')\n",
    "translator = Translator()\n",
    "\n",
    "f_estrela = [(int(driver.find_element(By.CLASS_NAME, 'iXRFPc').get_attribute('aria-label').split()[1]))]\n",
    "f_comentario = [driver.find_element(By.CLASS_NAME, 'h3YV2d').text]\n",
    "\n",
    "more = driver.find_element(By.XPATH, '//*[@id=\"yDmH0d\"]/c-wiz[2]/div/div/div[2]/div[2]/div/div[1]/div[1]/c-wiz[4]/section/div/div[2]/div[5]/div/div/button/span').click()\n",
    "\n",
    "\n",
    "estrelas = driver.find_elements(By.CLASS_NAME, 'iXRFPc')\n",
    "estrelas = [int(estrela.get_attribute('aria-label').split()[1]) for estrela in estrelas]\n",
    "\n",
    "comentarios = driver.find_elements(By.CLASS_NAME, 'h3YV2d')\n",
    "comentarios = [translator.translate(comentario.text, dest='en').text for comentario in comentarios]\n",
    "\n",
    "estrelas = f_estrela + estrelas[1:]\n",
    "comentarios = f_comentario + comentarios[1:]\n",
    "\n",
    "driver.close()"
   ]
  },
  {
   "cell_type": "code",
   "execution_count": 4,
   "metadata": {},
   "outputs": [
    {
     "name": "stdout",
     "output_type": "stream",
     "text": [
      "Mean stars: 2.4\n"
     ]
    }
   ],
   "source": [
    "print(\"Mean stars: \" + str(round(sum(estrelas)/len(estrelas), 2)))"
   ]
  },
  {
   "cell_type": "code",
   "execution_count": 5,
   "metadata": {},
   "outputs": [
    {
     "name": "stderr",
     "output_type": "stream",
     "text": [
      "Some weights of the model checkpoint at cardiffnlp/twitter-roberta-base-sentiment-latest were not used when initializing RobertaForSequenceClassification: ['roberta.pooler.dense.weight', 'roberta.pooler.dense.bias']\n",
      "- This IS expected if you are initializing RobertaForSequenceClassification from the checkpoint of a model trained on another task or with another architecture (e.g. initializing a BertForSequenceClassification model from a BertForPreTraining model).\n",
      "- This IS NOT expected if you are initializing RobertaForSequenceClassification from the checkpoint of a model that you expect to be exactly identical (initializing a BertForSequenceClassification model from a BertForSequenceClassification model).\n",
      "WARNING[XFORMERS]: xFormers can't load C++/CUDA extensions. xFormers was built for:\n",
      "    PyTorch 2.0.1+cu118 with CUDA 1108 (you have 2.0.1+cpu)\n",
      "    Python  3.10.11 (you have 3.10.6)\n",
      "  Please reinstall xformers (see https://github.com/facebookresearch/xformers#installing-xformers)\n",
      "  Memory-efficient attention, SwiGLU, sparse and more won't be available.\n",
      "  Set XFORMERS_MORE_DETAILS=1 for more details\n"
     ]
    }
   ],
   "source": [
    "pipe = pipeline(model=\"cardiffnlp/twitter-roberta-base-sentiment-latest\")"
   ]
  },
  {
   "cell_type": "code",
   "execution_count": 6,
   "metadata": {},
   "outputs": [
    {
     "name": "stdout",
     "output_type": "stream",
     "text": [
      "5 people likes this app\n",
      "5 people prefer not say\n",
      "33 people does not like this app\n"
     ]
    }
   ],
   "source": [
    "opinions = {'positive': 0, 'negative': 0, 'neutral': 0}\n",
    "\n",
    "for comment in comentarios:\n",
    "    opinions[pipe(comment)[0]['label']] += 1\n",
    "\n",
    "print(f'{opinions[\"positive\"]} people likes this app')\n",
    "print(f'{opinions[\"neutral\"]} people prefer not say')\n",
    "print(f'{opinions[\"negative\"]} people does not like this app')"
   ]
  },
  {
   "cell_type": "code",
   "execution_count": 12,
   "metadata": {},
   "outputs": [
    {
     "data": {
      "image/png": "[encoded data removed]",
      "text/plain": [
       "<Figure size 640x480 with 1 Axes>"
      ]
     },
     "metadata": {},
     "output_type": "display_data"
    }
   ],
   "source": [
    "plt.title(\"Sentiment Analysis\")\n",
    "plt.bar(['Positive', 'Negative', 'Neutral'], [opinions['positive'], opinions['negative'], opinions['neutral']])\n",
    "plt.show()"
   ]
  }
 ],
 "metadata": {
  "kernelspec": {
   "display_name": "Python 3",
   "language": "python",
   "name": "python3"
  },
  "language_info": {
   "codemirror_mode": {
    "name": "ipython",
    "version": 3
   },
   "file_extension": ".py",
   "mimetype": "text/x-python",
   "name": "python",
   "nbconvert_exporter": "python",
   "pygments_lexer": "ipython3",
   "version": "3.10.6"
  },
  "orig_nbformat": 4
 },
 "nbformat": 4,
 "nbformat_minor": 2
}
